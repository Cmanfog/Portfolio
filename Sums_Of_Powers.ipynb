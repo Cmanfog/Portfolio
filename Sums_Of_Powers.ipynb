{
  "nbformat": 4,
  "nbformat_minor": 0,
  "metadata": {
    "colab": {
      "provenance": [],
      "include_colab_link": true
    },
    "kernelspec": {
      "name": "python3",
      "display_name": "Python 3"
    },
    "language_info": {
      "name": "python"
    }
  },
  "cells": [
    {
      "cell_type": "markdown",
      "metadata": {
        "id": "view-in-github",
        "colab_type": "text"
      },
      "source": [
        "<a href=\"https://colab.research.google.com/github/Cmanfog/Portfolio/blob/main/Sums_Of_Powers.ipynb\" target=\"_parent\"><img src=\"https://colab.research.google.com/assets/colab-badge.svg\" alt=\"Open In Colab\"/></a>"
      ]
    },
    {
      "cell_type": "markdown",
      "source": [
        "#Sums of Powers Final Project\n",
        "By Connor Fogarty, Caleigh Schmidt, and Jessica Schmidt"
      ],
      "metadata": {
        "id": "A-upRBblIFzj"
      }
    },
    {
      "cell_type": "markdown",
      "source": [
        "In this project, we will explore theorems established by Ho, Mellblom, and Frodyma in regards to the sums of powers of consecutive integers. We will first look at the two theorems established in their papers and provide computational evidence to support their proofs, then attempt to create generalizations by modifying their original theorems and examining the patterns that result."
      ],
      "metadata": {
        "id": "_spm6sT2kY6f"
      }
    },
    {
      "cell_type": "code",
      "source": [
        "import math"
      ],
      "metadata": {
        "id": "9etaeiFT7SUM"
      },
      "execution_count": null,
      "outputs": []
    },
    {
      "cell_type": "markdown",
      "source": [
        "##Initial Function\n",
        "\n",
        "First, we must describe the function of powers of consecutive integers that Ho, Mellblom, and Frodyma use throughout their paper. The authors define the function S(m,k,n) as [n^mk + (n+1)^mk + ... + (n+k-1)^mk] mod k^2. For simplicity, they determine that the remainder of this function, using consecutive integers specifically, is the same regardless of n, so the function can simply be describes as S(m,k). For our purposes in supporting their theorem, n was chosen to equal ten. This function is coded below with examples for verification."
      ],
      "metadata": {
        "id": "8kHZz2mElcQo"
      }
    },
    {
      "cell_type": "code",
      "source": [
        "def sumMod(m,k,n=10):#k must be an odd number; n will default to 10 if no other input is given\n",
        "  sum=0\n",
        "  for i in range(n,n+k): #the authors defined the function as running from n to n+k-1, so indexing here is correct\n",
        "    sum+=i**(m*k)\n",
        "  return sum % (k**2)"
      ],
      "metadata": {
        "id": "stSS011iJTsO"
      },
      "execution_count": null,
      "outputs": []
    },
    {
      "cell_type": "code",
      "source": [
        "sumMod(4,7)"
      ],
      "metadata": {
        "id": "WgOHbQn0Kl4H",
        "outputId": "25877d1a-ca8a-483c-9b87-a67401473632",
        "colab": {
          "base_uri": "https://localhost:8080/"
        }
      },
      "execution_count": null,
      "outputs": [
        {
          "output_type": "execute_result",
          "data": {
            "text/plain": [
              "0"
            ]
          },
          "metadata": {},
          "execution_count": 14
        }
      ]
    },
    {
      "cell_type": "code",
      "source": [
        "sumMod(4,9)"
      ],
      "metadata": {
        "id": "c0ncB0oNKkS3",
        "outputId": "0e77fa24-fafe-4062-f604-0663ba99c587",
        "colab": {
          "base_uri": "https://localhost:8080/"
        }
      },
      "execution_count": null,
      "outputs": [
        {
          "output_type": "execute_result",
          "data": {
            "text/plain": [
              "6"
            ]
          },
          "metadata": {},
          "execution_count": 10
        }
      ]
    },
    {
      "cell_type": "markdown",
      "source": [
        "##Supporting Evidence\n",
        "###Theorem One\n",
        "\n",
        "The authors' first theorem is as follows:\n",
        "Let k > 1 be an odd integer. For any positive integer m, if m is odd,S(m,k)≡ 0 mod k^2, and if m is even, S(m,k) ≡ 2[1^mk+2^mk+···+q^mk]mod k^2,where q=(k−1)/2.\n",
        "\n",
        "To begin, we will look at the case of even numbers. The first function coded below computes the value of 2[1^mk+2^mk+···+q^mk]mod k^2, which can then be checked against the results of the sumMod function to support the theorem."
      ],
      "metadata": {
        "id": "m0MNaLzekyMT"
      }
    },
    {
      "cell_type": "code",
      "source": [
        "def theoremOneEven(m,k):\n",
        "  sum=0\n",
        "  q=int((k-1)/2)\n",
        "  for i in range(1,q+1):\n",
        "    sum+=i**(m*k)\n",
        "  return (2*sum) % (k**2)"
      ],
      "metadata": {
        "id": "ECzYMu1VKHDf"
      },
      "execution_count": null,
      "outputs": []
    },
    {
      "cell_type": "code",
      "source": [
        "theoremOneEven(10,15)"
      ],
      "metadata": {
        "id": "UaiUocKQLsnB",
        "outputId": "38f31f46-1bb6-428b-a3f2-80344748f733",
        "colab": {
          "base_uri": "https://localhost:8080/"
        }
      },
      "execution_count": null,
      "outputs": [
        {
          "output_type": "execute_result",
          "data": {
            "text/plain": [
              "100"
            ]
          },
          "metadata": {},
          "execution_count": 16
        }
      ]
    },
    {
      "cell_type": "code",
      "source": [
        "def sumTalliesE(mMax,kMax): #this function tallies the results of checking sumMod against theoremOneEven for a range of m and k\n",
        "  sums = 0\n",
        "  for k in range(3,kMax+1,2): #following the authors, k is an odd number greater than one\n",
        "    evenSums = [theoremOneEven(m,k) == sumMod(m,k) for m in range(2,mMax+1,2)] #m is kept even\n",
        "    #print(evenSums)\n",
        "    sums += evenSums.count(False)\n",
        "  return sums #should return 0 if theorem one is correct; returning any other number indicates at least one value where the theorem is false\n",
        ""
      ],
      "metadata": {
        "id": "jDlDlLSUY5ee"
      },
      "execution_count": null,
      "outputs": []
    },
    {
      "cell_type": "code",
      "source": [
        "sumTalliesE(2,5)"
      ],
      "metadata": {
        "colab": {
          "base_uri": "https://localhost:8080/"
        },
        "id": "cr4_dXa6ay-a",
        "outputId": "c45fcbe0-ae2d-48e3-a8c4-2a1e92c40f04"
      },
      "execution_count": null,
      "outputs": [
        {
          "output_type": "stream",
          "name": "stdout",
          "text": [
            "[True]\n",
            "[True]\n"
          ]
        },
        {
          "output_type": "execute_result",
          "data": {
            "text/plain": [
              "0"
            ]
          },
          "metadata": {},
          "execution_count": 34
        }
      ]
    },
    {
      "cell_type": "code",
      "source": [
        "sumTalliesE(10,10)"
      ],
      "metadata": {
        "colab": {
          "base_uri": "https://localhost:8080/"
        },
        "id": "t12EKF07aN_u",
        "outputId": "0891bd60-ceba-4385-cc27-6d74dcae6023"
      },
      "execution_count": null,
      "outputs": [
        {
          "output_type": "stream",
          "name": "stdout",
          "text": [
            "[True, True, True, True, True]\n",
            "[True, True, True, True, True]\n",
            "[True, True, True, True, True]\n",
            "[True, True, True, True, True]\n"
          ]
        },
        {
          "output_type": "execute_result",
          "data": {
            "text/plain": [
              "0"
            ]
          },
          "metadata": {},
          "execution_count": 35
        }
      ]
    },
    {
      "cell_type": "code",
      "source": [
        "sumTalliesE(100,100)"
      ],
      "metadata": {
        "colab": {
          "base_uri": "https://localhost:8080/"
        },
        "id": "7CN4G81BbP_W",
        "outputId": "6d98a0b6-7eb4-43d1-c1ec-6b3677b82d29"
      },
      "execution_count": null,
      "outputs": [
        {
          "output_type": "execute_result",
          "data": {
            "text/plain": [
              "0"
            ]
          },
          "metadata": {},
          "execution_count": 20
        }
      ]
    },
    {
      "cell_type": "markdown",
      "source": [
        "Since we found no combinations of m and k that disprove the theorem, we can safely say our evidence provides computational support for the authors' first theorem in regards to even numbers.\n",
        "\n",
        "Let us now look at the odd values of m section of theorem one. According to the theorem, any odd values of m should produce a result of zero. This can easily be checked in a similar manner to our sumTalliesE function, returning zero if no contradictions are found."
      ],
      "metadata": {
        "id": "PNTag9m8nsPB"
      }
    },
    {
      "cell_type": "code",
      "source": [
        "def sumTalliesO(mMax,kMax):\n",
        "  sums = 0\n",
        "  for k in range(3,kMax+1,2):\n",
        "    oddSums = [0 == sumMod(m,k) for m in range(1,mMax+1,2)]\n",
        "    #print(oddSums)\n",
        "    sums += oddSums.count(False)\n",
        "  return sums #should return 0 if the theorem is true"
      ],
      "metadata": {
        "id": "lM2SDyDkcEDl"
      },
      "execution_count": null,
      "outputs": []
    },
    {
      "cell_type": "code",
      "source": [
        "sumTalliesO(3,5)"
      ],
      "metadata": {
        "colab": {
          "base_uri": "https://localhost:8080/"
        },
        "id": "T5TBw8EmcdKk",
        "outputId": "8b12fb03-0472-4ae7-ed6f-8580e6818a1c"
      },
      "execution_count": null,
      "outputs": [
        {
          "output_type": "stream",
          "name": "stdout",
          "text": [
            "[True, True]\n",
            "[True, True]\n"
          ]
        },
        {
          "output_type": "execute_result",
          "data": {
            "text/plain": [
              "0"
            ]
          },
          "metadata": {},
          "execution_count": 41
        }
      ]
    },
    {
      "cell_type": "code",
      "source": [
        "sumTalliesO(10,10)"
      ],
      "metadata": {
        "colab": {
          "base_uri": "https://localhost:8080/"
        },
        "id": "4bohwjO-cnGG",
        "outputId": "93c0be02-030d-43da-a2a8-4253a03a55eb"
      },
      "execution_count": null,
      "outputs": [
        {
          "output_type": "stream",
          "name": "stdout",
          "text": [
            "[True, True, True, True, True]\n",
            "[True, True, True, True, True]\n",
            "[True, True, True, True, True]\n",
            "[True, True, True, True, True]\n"
          ]
        },
        {
          "output_type": "execute_result",
          "data": {
            "text/plain": [
              "0"
            ]
          },
          "metadata": {},
          "execution_count": 42
        }
      ]
    },
    {
      "cell_type": "code",
      "source": [
        "sumTalliesO(100,100)"
      ],
      "metadata": {
        "colab": {
          "base_uri": "https://localhost:8080/"
        },
        "id": "yz-PlvcLcqT7",
        "outputId": "432044c0-a91e-4783-a523-7f392856eba0"
      },
      "execution_count": null,
      "outputs": [
        {
          "output_type": "execute_result",
          "data": {
            "text/plain": [
              "0"
            ]
          },
          "metadata": {},
          "execution_count": 22
        }
      ]
    },
    {
      "cell_type": "markdown",
      "source": [
        "Once again we have found no examples of theorem one being false, meaning that our computational evidence wholeheartedly supports all parts of Theorem 1."
      ],
      "metadata": {
        "id": "XYGBYqLoc6c9"
      }
    },
    {
      "cell_type": "markdown",
      "source": [
        "###Theorem Two\n",
        "\n",
        "We can now look at the second theorem in the paper and attempt to provide further computational evidence to supplement the proof.\n",
        "\n",
        "Theorem 2 is as follows: For any odd prime p, S(m,p) ≡ 0 mod p^2 for any positive integers m ≢ 0 mod(p−1).If m ≡ 0 mod(p−1), S(m,p) ≡ (p−1) mod p^2.\n",
        "\n",
        "To support this theorem, we will first need to know which numbers are prime. We can do this by implementing code based on the Sieve of Sundaram method, which will give us a list of prime numbers excluding 2. This is ideal as the theorem only asks for odd prime numbers."
      ],
      "metadata": {
        "id": "MPMytrUcc9Ps"
      }
    },
    {
      "cell_type": "code",
      "source": [
        "def sundaram(nMax):\n",
        "  m = math.floor((nMax-1)/2)\n",
        "  nums = [n for n in range(1,m+1)]\n",
        "  i = 1\n",
        "  while 2*i + 2*i**2 <= m:\n",
        "    j = i\n",
        "    w = i + j + 2*i*j\n",
        "    while w <= m:\n",
        "      if nums[w-1] == w:\n",
        "        nums[w-1] = 0\n",
        "      j += 1\n",
        "      w = i + j + 2*i*j\n",
        "    i += 1\n",
        "  primes = [2*n+1 for n in nums if n!= 0] #gives all primes except 2\n",
        "  return primes"
      ],
      "metadata": {
        "id": "B0mq0pyEMT9-"
      },
      "execution_count": null,
      "outputs": []
    },
    {
      "cell_type": "markdown",
      "source": [
        "We can then use one code to check both parts of Theorem 2. If m ≡ 0 mod(p−1), the results of sumMod are checked for equaling (p−1) mod p^2. Otherwise, the results are checked for equaling zero."
      ],
      "metadata": {
        "id": "JH8d6ANlpTvP"
      }
    },
    {
      "cell_type": "code",
      "source": [
        "def TheoremTwo(mMax,pMax):\n",
        "  falseTally = 0\n",
        "  primes = sundaram(pMax)\n",
        "  for p in primes:\n",
        "    for m in range(1,mMax):\n",
        "      if m % (p-1) == 0:\n",
        "        if sumMod(m,p) != (p-1)%(p**2): #if the theorem is not true, add to tally\n",
        "          falseTally += 1\n",
        "      else:\n",
        "        if sumMod(m,p) != 0: #if the theorem is not true, add to tally\n",
        "          falseTally += 1\n",
        "  return falseTally #should return 0 if all are True\n",
        "\n"
      ],
      "metadata": {
        "id": "PVlBj1vndg_2"
      },
      "execution_count": null,
      "outputs": []
    },
    {
      "cell_type": "code",
      "source": [
        "TheoremTwo(200,100)"
      ],
      "metadata": {
        "colab": {
          "base_uri": "https://localhost:8080/"
        },
        "id": "S09f67X6nbq_",
        "outputId": "9281b853-5823-46e2-89da-a47fdcff3f9d"
      },
      "execution_count": null,
      "outputs": [
        {
          "output_type": "execute_result",
          "data": {
            "text/plain": [
              "0"
            ]
          },
          "metadata": {},
          "execution_count": 9
        }
      ]
    },
    {
      "cell_type": "markdown",
      "source": [
        "Our computational evidence lines up with Theorem 2, as no combinations of m and p were found that contradict it."
      ],
      "metadata": {
        "id": "_1-IoqTpqNzp"
      }
    },
    {
      "cell_type": "markdown",
      "source": [
        "#Generalizations\n",
        "For further experimentation, we will now look at modified versions of Ho, Mellblom, and Frodyma's function and theorems to see which patterns remain and which new ones can be discovered. We will consider questions including sums of non-consecutive integers, how the value of n may affect these sums, and when we can find zeroes in these sums.\n",
        "\n",
        "To begin, we need to code a version of the S(m,k) function that will allow us to change the spacing of the integers being summed from consecutive (a spacing of one) to whatever we want, using the variable sk. We will define this as the S(m,k,sk,n) function, which is identical to the S(m,k) function but sums powers of integers (n, n+sk, n+2sk,...) up to and not necessarily including n+k-1."
      ],
      "metadata": {
        "id": "-070BU6oq3-x"
      }
    },
    {
      "cell_type": "code",
      "source": [
        "def sumModSkip(m,k,sk,n=10):#n will default to 10 if no other input is given\n",
        "  sum=0\n",
        "  for i in range(n,n+k,sk): #sk determines spacing of summed integers; we chose to have the integers end at n+k as in the original rather than have k summed integers\n",
        "    sum+=i**(m*k)\n",
        "  return sum % (k**2)"
      ],
      "metadata": {
        "id": "V4cR3A_CgG9G"
      },
      "execution_count": null,
      "outputs": []
    },
    {
      "cell_type": "markdown",
      "source": [
        "We can now investigate some different values for spacing to see what patterns result. To begin, we will look at the effects of changing n, which had no effect for sums of powers of consecutive integers."
      ],
      "metadata": {
        "id": "5_5q0simryPc"
      }
    },
    {
      "cell_type": "code",
      "source": [
        "print([sumModSkip(5,7,2,n) for n in range(1,50)])\n",
        "print([sumModSkip(5,9,2,n) for n in range(1,50)])\n",
        "print([sumModSkip(5,11,2,n) for n in range(1,50)])"
      ],
      "metadata": {
        "colab": {
          "base_uri": "https://localhost:8080/"
        },
        "id": "FqouhQRteoN8",
        "outputId": "5a30ef81-c930-465b-ef08-3f4b2f54a44f"
      },
      "execution_count": null,
      "outputs": [
        {
          "output_type": "stream",
          "name": "stdout",
          "text": [
            "[2, 48, 19, 0, 30, 1, 47, 2, 48, 19, 0, 30, 1, 47, 2, 48, 19, 0, 30, 1, 47, 2, 48, 19, 0, 30, 1, 47, 2, 48, 19, 0, 30, 1, 47, 2, 48, 19, 0, 30, 1, 47, 2, 48, 19, 0, 30, 1, 47]\n",
            "[55, 27, 26, 55, 0, 26, 55, 54, 26, 55, 27, 26, 55, 0, 26, 55, 54, 26, 55, 27, 26, 55, 0, 26, 55, 54, 26, 55, 27, 26, 55, 0, 26, 55, 54, 26, 55, 27, 26, 55, 0, 26, 55, 54, 26, 55, 27, 26, 55]\n",
            "[3, 119, 1, 0, 1, 0, 120, 0, 120, 2, 118, 3, 119, 1, 0, 1, 0, 120, 0, 120, 2, 118, 3, 119, 1, 0, 1, 0, 120, 0, 120, 2, 118, 3, 119, 1, 0, 1, 0, 120, 0, 120, 2, 118, 3, 119, 1, 0, 1]\n"
          ]
        }
      ]
    },
    {
      "cell_type": "markdown",
      "source": [
        "We can see that, unlike in the original S(m,k) function, the n value does change the results. We also found a pattern in how often zeroes are produced as n changes.\n",
        "\n",
        "**Conjecture: For the function S(m,k,sk,n) defined previously, S(m,k,sk,n) ≡ 0 mod k^2 for n=zk+d, where z is the set of integers z≥0 and d is an undetermined starting value that varies with k.**\n",
        "\n",
        "In other words, we noticed that zeroes would appear k values apart in the lists as n varied. Therefore, we coded a function to verify this."
      ],
      "metadata": {
        "id": "RUWc_vS7fp-0"
      }
    },
    {
      "cell_type": "code",
      "source": [
        "def zeroCycles(m,k,sk,nMax): #detect distance between 0 values of sumModSkip sequence with varying values of n, if k is odd\n",
        "  sumVals = [sumModSkip(m,k,sk,n) for n in range(1,nMax)]\n",
        "  startInd = -1\n",
        "  endInd = -1\n",
        "  for i in range(len(sumVals)):\n",
        "    if sumVals[i] == 0:\n",
        "      if startInd >= 0: #find second instance of a 0\n",
        "        #print(k,i)\n",
        "        endInd = i\n",
        "        break\n",
        "      else:\n",
        "        #print(k,i) #find first instance of a 0\n",
        "        startInd = i\n",
        "        continue\n",
        "  #print(endInd - startInd)\n",
        "  if endInd - startInd == k: #distance between 0s could be k\n",
        "    return [True, \"firstTwoZeroes\"]\n",
        "  if sumVals[startInd + k] == 0 and sumVals[endInd + k] == 0: #could be 0s in between, but shows there are k values between any 2 zeroes\n",
        "    return  [True, \"someZeroesBetween\"]\n",
        "  return False\n",
        ""
      ],
      "metadata": {
        "id": "K5tqUjsfKPrM"
      },
      "execution_count": null,
      "outputs": []
    },
    {
      "cell_type": "code",
      "source": [
        "[zeroCycles(7,k,2,200) for k in range(3,100,2)]"
      ],
      "metadata": {
        "colab": {
          "base_uri": "https://localhost:8080/"
        },
        "id": "RFG5h6yyL3i7",
        "outputId": "4454f9f1-9505-4816-863d-6e9f02002849"
      },
      "execution_count": null,
      "outputs": [
        {
          "output_type": "execute_result",
          "data": {
            "text/plain": [
              "[[True, 'firstTwoZeroes'],\n",
              " [True, 'firstTwoZeroes'],\n",
              " [True, 'firstTwoZeroes'],\n",
              " [True, 'firstTwoZeroes'],\n",
              " [True, 'firstTwoZeroes'],\n",
              " [True, 'firstTwoZeroes'],\n",
              " [True, 'firstTwoZeroes'],\n",
              " [True, 'firstTwoZeroes'],\n",
              " [True, 'firstTwoZeroes'],\n",
              " [True, 'firstTwoZeroes'],\n",
              " [True, 'firstTwoZeroes'],\n",
              " [True, 'firstTwoZeroes'],\n",
              " [True, 'firstTwoZeroes'],\n",
              " [True, 'firstTwoZeroes'],\n",
              " [True, 'firstTwoZeroes'],\n",
              " [True, 'firstTwoZeroes'],\n",
              " [True, 'firstTwoZeroes'],\n",
              " [True, 'firstTwoZeroes'],\n",
              " [True, 'someZeroesBetween'],\n",
              " [True, 'firstTwoZeroes'],\n",
              " [True, 'firstTwoZeroes'],\n",
              " [True, 'firstTwoZeroes'],\n",
              " [True, 'firstTwoZeroes'],\n",
              " [True, 'someZeroesBetween'],\n",
              " [True, 'firstTwoZeroes'],\n",
              " [True, 'firstTwoZeroes'],\n",
              " [True, 'someZeroesBetween'],\n",
              " [True, 'firstTwoZeroes'],\n",
              " [True, 'firstTwoZeroes'],\n",
              " [True, 'firstTwoZeroes'],\n",
              " [True, 'firstTwoZeroes'],\n",
              " [True, 'firstTwoZeroes'],\n",
              " [True, 'firstTwoZeroes'],\n",
              " [True, 'firstTwoZeroes'],\n",
              " [True, 'firstTwoZeroes'],\n",
              " [True, 'firstTwoZeroes'],\n",
              " [True, 'someZeroesBetween'],\n",
              " [True, 'firstTwoZeroes'],\n",
              " [True, 'firstTwoZeroes'],\n",
              " [True, 'firstTwoZeroes'],\n",
              " [True, 'firstTwoZeroes'],\n",
              " [True, 'firstTwoZeroes'],\n",
              " [True, 'firstTwoZeroes'],\n",
              " [True, 'firstTwoZeroes'],\n",
              " [True, 'firstTwoZeroes'],\n",
              " [True, 'firstTwoZeroes'],\n",
              " [True, 'firstTwoZeroes'],\n",
              " [True, 'firstTwoZeroes'],\n",
              " [True, 'firstTwoZeroes']]"
            ]
          },
          "metadata": {},
          "execution_count": 38
        }
      ]
    },
    {
      "cell_type": "markdown",
      "source": [
        "For all values tested, the conjecture is true. It is important to note that some values of n produced zeroes in places not predicted by the conjecture; however, this does not discount the fact that the conjecture was correct in the predicted areas as well.\n",
        "\n",
        "Next, we will look at the changes in the S(m,k,sk,n) function as sk, or the skip size, varies."
      ],
      "metadata": {
        "id": "vq8oPDifO6Gh"
      }
    },
    {
      "cell_type": "code",
      "source": [
        "print([sumModSkip(5,7,sk,10) for sk in range(1,50)])\n",
        "print([sumModSkip(5,9,sk,10) for sk in range(1,50)])\n",
        "print([sumModSkip(5,11,sk,10) for sk in range(1,50)])"
      ],
      "metadata": {
        "colab": {
          "base_uri": "https://localhost:8080/"
        },
        "id": "-8DqFQFfjUwr",
        "outputId": "699db3fd-9bc7-408f-ca27-5f3e0c30533d"
      },
      "execution_count": null,
      "outputs": [
        {
          "output_type": "stream",
          "name": "stdout",
          "text": [
            "[0, 19, 36, 19, 20, 37, 19, 19, 19, 19, 19, 19, 19, 19, 19, 19, 19, 19, 19, 19, 19, 19, 19, 19, 19, 19, 19, 19, 19, 19, 19, 19, 19, 19, 19, 19, 19, 19, 19, 19, 19, 19, 19, 19, 19, 19, 19, 19, 19]\n",
            "[0, 55, 3, 27, 1, 29, 0, 1, 1, 1, 1, 1, 1, 1, 1, 1, 1, 1, 1, 1, 1, 1, 1, 1, 1, 1, 1, 1, 1, 1, 1, 1, 1, 1, 1, 1, 1, 1, 1, 1, 1, 1, 1, 1, 1, 1, 1, 1, 1]\n",
            "[0, 2, 119, 120, 1, 0, 119, 119, 119, 0, 120, 120, 120, 120, 120, 120, 120, 120, 120, 120, 120, 120, 120, 120, 120, 120, 120, 120, 120, 120, 120, 120, 120, 120, 120, 120, 120, 120, 120, 120, 120, 120, 120, 120, 120, 120, 120, 120, 120]\n"
          ]
        }
      ]
    },
    {
      "cell_type": "markdown",
      "source": [
        "One noticeable pattern as sk varies is that the results of the function eventually enter a cycle of a single repeating value. We found that this pattern appeared to start as sk=k, and wrote code to test this.\n",
        "\n",
        "**Conjecture: For the function S(m,k,sk,n), for positive integers sk, the results of S(m,k,sk,n) will be the same for constant values of m, k, and n when sk ≥ k if k is a positive odd integer and k>1.**"
      ],
      "metadata": {
        "id": "F6W5clIBktnN"
      }
    },
    {
      "cell_type": "code",
      "source": [
        "def repeatSK(m,k,skMax,n=10):\n",
        "  sumVals = [sumModSkip(m,k,sk,n) for sk in range(1,skMax)]\n",
        "  repeatVal = sumVals[k-1] #this value should be repeated for all output where k <= sk\n",
        "  if sumVals[k-2] == repeatVal:\n",
        "    return [False, k, k-1] #return false if the repition starts some point before sk = k, and the value it started repeating at\n",
        "  for i in range(k,skMax-1):\n",
        "    if sumVals[i] != repeatVal: #return false if the repetition breaks at some point where sk >= k\n",
        "      return [False, k, i]\n",
        "  return True"
      ],
      "metadata": {
        "id": "TOMrMH1gdT--"
      },
      "execution_count": null,
      "outputs": []
    },
    {
      "cell_type": "code",
      "source": [
        "print([repeatSK(5,k,100,0) for k in range(3,100,2)]) #true when n=0"
      ],
      "metadata": {
        "colab": {
          "base_uri": "https://localhost:8080/"
        },
        "id": "So6zcz_3fsxw",
        "outputId": "b264f447-7fb2-491b-cc90-cb84ce3ed67b"
      },
      "execution_count": null,
      "outputs": [
        {
          "output_type": "stream",
          "name": "stdout",
          "text": [
            "[True, True, True, True, True, True, True, True, True, True, True, True, True, True, True, True, True, True, True, True, True, True, True, True, True, True, True, True, True, True, True, True, True, True, True, True, True, True, True, True, True, True, True, True, True, True, True, True, True]\n"
          ]
        }
      ]
    },
    {
      "cell_type": "code",
      "source": [
        "vals=[repeatSK(5,k,731) for k in range(3,731,2)]\n",
        "[n for n in vals if n!=True] #only returns falses; all other values therefore returned true"
      ],
      "metadata": {
        "colab": {
          "base_uri": "https://localhost:8080/"
        },
        "id": "mYWoRQZsfRE1",
        "outputId": "45fa3e26-c93d-42a1-f9ec-a316bf230658"
      },
      "execution_count": null,
      "outputs": [
        {
          "output_type": "execute_result",
          "data": {
            "text/plain": [
              "[[False, 3, 2],\n",
              " [False, 9, 8],\n",
              " [False, 27, 26],\n",
              " [False, 81, 80],\n",
              " [False, 243, 242],\n",
              " [False, 729, 728]]"
            ]
          },
          "metadata": {},
          "execution_count": 11
        }
      ]
    },
    {
      "cell_type": "markdown",
      "source": [
        "As above, we find that the conjecture almost always holds true; however, it is false apparently only for powers of three, in which the repetition begins when sk=k-1 instead. We can modify our conjecture to match this data:\n",
        "\n",
        "**Conjecture: For the function S(m,k,sk,n), for positive integers sk, the results of S(m,k,sk,n) will be equal for constant values of m, k, and n when sk ≥ k if k is a positive odd integer where k > 1 and sk is not of the form 3^i where i is an integer. If sk is of the form 3^i, then the same pattern holds when sk ≥ k-1.**\n",
        "\n",
        "Next, we looked at patterns when k was varied compared to varying m. In particular, we looked at prime values of k, inspired by Theorem 2 of the original paper on this topic."
      ],
      "metadata": {
        "id": "UZEQCuFT2Myw"
      }
    },
    {
      "cell_type": "code",
      "source": [
        "print([sumModSkip(m,5,2,10) for m in range(1,50)])\n",
        "print([sumModSkip(m,7,2,10) for m in range(1,50)])\n",
        "print([sumModSkip(m,11,2,10) for m in range(1,50)])"
      ],
      "metadata": {
        "colab": {
          "base_uri": "https://localhost:8080/"
        },
        "id": "FPhXCIlM5lS5",
        "outputId": "3918d9e4-1b05-447f-b080-acbc08717b63"
      },
      "execution_count": null,
      "outputs": [
        {
          "output_type": "stream",
          "name": "stdout",
          "text": [
            "[6, 0, 17, 2, 6, 0, 17, 2, 6, 0, 17, 2, 6, 0, 17, 2, 6, 0, 17, 2, 6, 0, 17, 2, 6, 0, 17, 2, 6, 0, 17, 2, 6, 0, 17, 2, 6, 0, 17, 2, 6, 0, 17, 2, 6, 0, 17, 2, 6]\n",
            "[31, 17, 48, 29, 19, 3, 31, 17, 48, 29, 19, 3, 31, 17, 48, 29, 19, 3, 31, 17, 48, 29, 19, 3, 31, 17, 48, 29, 19, 3, 31, 17, 48, 29, 19, 3, 31, 17, 48, 29, 19, 3, 31, 17, 48, 29, 19, 3, 31]\n",
            "[79, 1, 102, 1, 2, 1, 66, 1, 114, 6, 79, 1, 102, 1, 2, 1, 66, 1, 114, 6, 79, 1, 102, 1, 2, 1, 66, 1, 114, 6, 79, 1, 102, 1, 2, 1, 66, 1, 114, 6, 79, 1, 102, 1, 2, 1, 66, 1, 114]\n"
          ]
        }
      ]
    },
    {
      "cell_type": "markdown",
      "source": [
        "As above, we found that the results of S(m,k,sk,n) varied with m entered different cycles depending on the k values. It appears that, for prime number values of k, the length of this cycle is k-1. Therefore, we will test the conjecture below.\n",
        "\n",
        "**Conjecture: For the function of S(m,k,sk,n) as defined above, with prime number values of k, the length of the cycle formed as m increases equals k-1.**"
      ],
      "metadata": {
        "id": "A8bkAxpD5_yv"
      }
    },
    {
      "cell_type": "code",
      "source": [
        "def lenKPrime(kMax, sk, n=10): #for prime values of k, the length of the cycle is k-1\n",
        "  kVals=sundaram(kMax)\n",
        "  trueTally=0\n",
        "  falseTally=0\n",
        "  for k in kVals:\n",
        "    results=[]\n",
        "    vals=[sumModSkip(m,k,sk,n) for m in range(1,kMax+1)]\n",
        "    for i in range(len(vals)):\n",
        "      if vals[:i].count(vals[i])==1:\n",
        "        results.append(vals[i])\n",
        "    #print(results)\n",
        "    if len(results)==k-1:\n",
        "      #print(\"True\")\n",
        "      trueTally+=1\n",
        "    else:\n",
        "      #print(\"False\")\n",
        "      falseTally+=1\n",
        "  return [trueTally, falseTally]"
      ],
      "metadata": {
        "id": "ljHwivXYoFcY"
      },
      "execution_count": null,
      "outputs": []
    },
    {
      "cell_type": "code",
      "source": [
        "lenKPrime(120,2)"
      ],
      "metadata": {
        "colab": {
          "base_uri": "https://localhost:8080/"
        },
        "id": "9d7aHQr9OKyy",
        "outputId": "a237e166-10fe-4ca1-843f-86a74b6e1f8d"
      },
      "execution_count": null,
      "outputs": [
        {
          "output_type": "execute_result",
          "data": {
            "text/plain": [
              "[10, 19]"
            ]
          },
          "metadata": {},
          "execution_count": 10
        }
      ]
    },
    {
      "cell_type": "markdown",
      "source": [
        "As tested by our function, we can see that the conjecture is only true approximately 1/3 of the time."
      ],
      "metadata": {
        "id": "IdtWFmC9CaVR"
      }
    },
    {
      "cell_type": "markdown",
      "source": [
        "#Conclusions\n"
      ],
      "metadata": {
        "id": "WG4tSCvAC4Zd"
      }
    },
    {
      "cell_type": "markdown",
      "source": [
        "Through this exploration, we were able to verify both theorems found in the paper involving Ho, Mellblom, and Frodyma's formula on the summation of powers. In addition, by defining our own version of the formula where certain values being summed are skipped over, we made various discoveries in relations to different sequences created by varying aspects of the formula:\n",
        "\n",
        "*   We found computational support for how zeroes may emerge for every k values in a sequence where only n increases\n",
        "*   We found computational support for when in a sequence where only sk increases, there will be constant, equal values when sk ≥ k\n",
        "*   We did not find computational support for when, with prime number values of k, the length of the cycle formed as m increases equals k-1.\n",
        "\n",
        "While none of these conjectures are necessarily proven, our exploration gives a better view into how the different variables of S(m,k,sk,n) impact the greater function as a whole.\n"
      ],
      "metadata": {
        "id": "eW4IpoArDOYN"
      }
    }
  ]
}